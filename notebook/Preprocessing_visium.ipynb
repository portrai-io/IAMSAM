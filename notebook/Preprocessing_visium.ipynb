{
 "cells": [
  {
   "cell_type": "code",
   "execution_count": 2,
   "id": "a9f0142b-2c67-4325-a1d1-0040b984d7fb",
   "metadata": {},
   "outputs": [],
   "source": [
    "import scanpy as sc\n",
    "import pandas as pd\n",
    "import numpy as np"
   ]
  },
  {
   "cell_type": "markdown",
   "id": "11a1a87c-d031-4052-817e-1da145f628eb",
   "metadata": {},
   "source": [
    "# Load Visium data"
   ]
  },
  {
   "cell_type": "code",
   "execution_count": 3,
   "id": "804ac0f5-6f00-4142-9d8a-50a383351d11",
   "metadata": {},
   "outputs": [
    {
     "name": "stderr",
     "output_type": "stream",
     "text": [
      "/home/dongjoolee/miniconda3/envs/CellDART/lib/python3.8/site-packages/anndata/_core/anndata.py:1840: UserWarning: Variable names are not unique. To make them unique, call `.var_names_make_unique`.\n",
      "  utils.warn_names_duplicates(\"var\")\n"
     ]
    }
   ],
   "source": [
    "adata = sc.read_visium('./1_Human_Breast_Cancer/')\n",
    "adata.var_names_make_unique()"
   ]
  },
  {
   "cell_type": "code",
   "execution_count": 4,
   "id": "57480502-8cbd-4863-ac49-e7549a487cfc",
   "metadata": {},
   "outputs": [],
   "source": [
    "adata.layers['counts'] = adata.X.copy()"
   ]
  },
  {
   "cell_type": "code",
   "execution_count": 5,
   "id": "3d81dd57-2134-4c64-aafa-859fad2c7456",
   "metadata": {},
   "outputs": [
    {
     "name": "stderr",
     "output_type": "stream",
     "text": [
      "/home/dongjoolee/miniconda3/envs/CellDART/lib/python3.8/site-packages/scanpy/preprocessing/_normalization.py:169: UserWarning: Received a view of an AnnData. Making a copy.\n",
      "  view_to_actual(adata)\n"
     ]
    }
   ],
   "source": [
    "adata.var_names_make_unique()\n",
    "adata.var[\"mt\"] = adata.var_names.str.startswith(\"MT-\")\n",
    "sc.pp.calculate_qc_metrics(adata, qc_vars=[\"mt\"], inplace=True, percent_top=None, log1p=False)\n",
    "\n",
    "sc.pp.filter_cells(adata, min_counts=500)\n",
    "adata = adata[adata.obs[\"pct_counts_mt\"] < 20]\n",
    "\n",
    "sc.pp.normalize_total(adata, inplace=True)"
   ]
  },
  {
   "cell_type": "markdown",
   "id": "bb3e52b9-8b76-4621-afad-a37a4165a081",
   "metadata": {},
   "source": [
    "# Cell type prediction : CellDART"
   ]
  },
  {
   "cell_type": "markdown",
   "id": "f31ac4a9-2490-4cd6-bb8d-218faa6cc3fb",
   "metadata": {},
   "source": [
    "https://github.com/mexchy1000/CellDART"
   ]
  },
  {
   "cell_type": "markdown",
   "id": "c3a94fb0-a14f-4961-ab88-f80d4a59cadb",
   "metadata": {},
   "source": [
    "### Load scRNAseq reference"
   ]
  },
  {
   "cell_type": "markdown",
   "id": "6c689c2e-da25-4069-a354-8a5ae4869e9b",
   "metadata": {},
   "source": [
    "https://www.ncbi.nlm.nih.gov/geo/query/acc.cgi?acc=GSE148673"
   ]
  },
  {
   "cell_type": "code",
   "execution_count": 6,
   "id": "5c431694-0853-4cea-8ede-fad913530c59",
   "metadata": {},
   "outputs": [],
   "source": [
    "ref = sc.read_h5ad('BRCA_GSE148673/BRCA_GSE148673_processed.h5ad')\n",
    "\n",
    "ref.X = ref.layers['counts']\n",
    "\n",
    "ref.var_names_make_unique()\n",
    "\n",
    "sc.pp.normalize_total(ref, inplace=True)\n",
    "sc.tl.rank_genes_groups(ref, 'celltype', method='wilcoxon')"
   ]
  },
  {
   "cell_type": "code",
   "execution_count": 7,
   "id": "ec46c852-557a-4440-bf4f-d9ac319d7394",
   "metadata": {
    "tags": []
   },
   "outputs": [],
   "source": [
    "genelists = ref.uns['rank_genes_groups']['names']\n",
    "df_genelists = pd.DataFrame.from_records(genelists)\n",
    "df_genelists.head(5) # Top5 markers of each celltypes\n",
    "\n",
    "num_markers = 20\n",
    "res_genes = []\n",
    "for column in df_genelists.head(num_markers): \n",
    "    res_genes.extend(df_genelists.head(num_markers)[column].tolist())\n",
    "res_genes_ = list(set(res_genes)) "
   ]
  },
  {
   "cell_type": "markdown",
   "id": "bc39491c-649e-42e6-86fc-1c977ea1bb81",
   "metadata": {
    "tags": []
   },
   "source": [
    "# CellDART"
   ]
  },
  {
   "cell_type": "code",
   "execution_count": 8,
   "id": "b93888a1-81fb-4aa3-aa56-4a75236e7d9d",
   "metadata": {
    "tags": []
   },
   "outputs": [],
   "source": [
    "from CellDART import da_cellfraction\n",
    "from CellDART.utils import random_mix"
   ]
  },
  {
   "cell_type": "code",
   "execution_count": 9,
   "id": "6fdc3df7-c35a-43fa-8926-30d3dacbf83e",
   "metadata": {
    "tags": []
   },
   "outputs": [],
   "source": [
    "def log_minmaxscale(arr):\n",
    "    arrd = len(arr)\n",
    "    arr = np.log1p(arr)\n",
    "    e = 1e-8\n",
    "    return (arr-np.reshape(np.min(arr,axis=1), (arrd,1)))/np.reshape((np.max(arr, axis=1)-np.min(arr,axis=1))+e,(arrd,1))"
   ]
  },
  {
   "cell_type": "code",
   "execution_count": 10,
   "id": "5452160f-e24f-4718-a565-46ef867bea99",
   "metadata": {
    "tags": []
   },
   "outputs": [
    {
     "name": "stdout",
     "output_type": "stream",
     "text": [
      "(2516, 137) (10359, 137) (20000, 137)\n"
     ]
    }
   ],
   "source": [
    "# Define intersection genes\n",
    "inter_genes = list(set(adata.var.index).intersection(set(res_genes)))\n",
    "mat_sp = adata[:,inter_genes].X.todense()\n",
    "mat_sc = ref[:,inter_genes]\n",
    "mat_sc = mat_sc.X.todense()\n",
    "df_sc = ref.obs\n",
    "lab_sc_sub = df_sc.celltype\n",
    "\n",
    "sc_sub_dict = dict(zip(range(len(set(lab_sc_sub))), set(lab_sc_sub)))\n",
    "sc_sub_dict2 = dict((y,x) for x,y in sc_sub_dict.items())\n",
    "lab_sc_num = [sc_sub_dict2[ii] for ii in lab_sc_sub]\n",
    "lab_sc_num = np.asarray(lab_sc_num, dtype='int')\n",
    "\n",
    "# Generate mixture \n",
    "sc_mix, lab_mix = random_mix(mat_sc, lab_sc_num, nmix=8, n_samples=20000)\n",
    "sc_mix_s = log_minmaxscale(sc_mix)\n",
    "mat_sp_s = log_minmaxscale(mat_sp)\n",
    "mat_sc_s = log_minmaxscale(mat_sc)\n",
    "print(mat_sp_s.shape, mat_sc_s.shape, sc_mix_s.shape)"
   ]
  },
  {
   "cell_type": "code",
   "execution_count": 11,
   "id": "92db6501-ac9e-43e2-ba0e-4595989a902e",
   "metadata": {
    "tags": []
   },
   "outputs": [
    {
     "name": "stdout",
     "output_type": "stream",
     "text": [
      "Train on 20000 samples\n",
      "Epoch 1/10\n",
      "20000/20000 [==============================] - 2s 89us/sample - loss: 0.7434 - mae: 0.0879\n",
      "Epoch 2/10\n",
      "20000/20000 [==============================] - 0s 16us/sample - loss: 0.3529 - mae: 0.0595\n",
      "Epoch 3/10\n",
      "20000/20000 [==============================] - 0s 15us/sample - loss: 0.1938 - mae: 0.0391\n",
      "Epoch 4/10\n",
      "20000/20000 [==============================] - 0s 14us/sample - loss: 0.1430 - mae: 0.0307\n",
      "Epoch 5/10\n",
      "20000/20000 [==============================] - 0s 15us/sample - loss: 0.1229 - mae: 0.0276\n",
      "Epoch 6/10\n",
      "20000/20000 [==============================] - 0s 16us/sample - loss: 0.1134 - mae: 0.0263\n",
      "Epoch 7/10\n",
      "20000/20000 [==============================] - 0s 16us/sample - loss: 0.1061 - mae: 0.0250\n",
      "Epoch 8/10\n",
      "20000/20000 [==============================] - 0s 16us/sample - loss: 0.1025 - mae: 0.0245\n",
      "Epoch 9/10\n",
      "20000/20000 [==============================] - 0s 16us/sample - loss: 0.1008 - mae: 0.0245\n",
      "Epoch 10/10\n",
      "20000/20000 [==============================] - 0s 16us/sample - loss: 0.0965 - mae: 0.0235\n",
      "initial_train_done\n"
     ]
    },
    {
     "name": "stderr",
     "output_type": "stream",
     "text": [
      "/home/dongjoolee/miniconda3/envs/CellDART/lib/python3.8/site-packages/keras/engine/training_v1.py:2045: UserWarning: `Model.state_updates` will be removed in a future version. This property should not be used in TensorFlow 2.0, as `updates` are applied automatically.\n",
      "  updates = self.state_updates\n"
     ]
    },
    {
     "name": "stdout",
     "output_type": "stream",
     "text": [
      "Iteration 99, source loss =  1.963, discriminator acc = 0.010\n",
      "Iteration 199, source loss =  0.781, discriminator acc = 0.225\n",
      "Iteration 299, source loss =  1.080, discriminator acc = 0.000\n",
      "Iteration 399, source loss =  0.416, discriminator acc = 0.170\n",
      "Iteration 499, source loss =  0.408, discriminator acc = 0.058\n",
      "Iteration 599, source loss =  0.290, discriminator acc = 0.001\n",
      "Iteration 699, source loss =  0.248, discriminator acc = 0.317\n",
      "Iteration 799, source loss =  0.304, discriminator acc = 0.341\n",
      "Iteration 899, source loss =  0.244, discriminator acc = 0.018\n",
      "Iteration 999, source loss =  0.207, discriminator acc = 0.616\n",
      "Iteration 1099, source loss =  0.199, discriminator acc = 0.481\n",
      "Iteration 1199, source loss =  0.197, discriminator acc = 0.009\n",
      "Iteration 1299, source loss =  0.188, discriminator acc = 0.614\n",
      "Iteration 1399, source loss =  0.182, discriminator acc = 0.752\n",
      "Iteration 1499, source loss =  0.167, discriminator acc = 0.192\n",
      "Iteration 1599, source loss =  0.163, discriminator acc = 0.136\n",
      "Iteration 1699, source loss =  0.166, discriminator acc = 0.890\n",
      "Iteration 1799, source loss =  0.176, discriminator acc = 0.691\n",
      "Iteration 1899, source loss =  0.155, discriminator acc = 0.078\n",
      "Iteration 1999, source loss =  0.159, discriminator acc = 0.088\n"
     ]
    },
    {
     "name": "stderr",
     "output_type": "stream",
     "text": [
      "/home/dongjoolee/miniconda3/envs/CellDART/lib/python3.8/site-packages/keras/engine/training_v1.py:2067: UserWarning: `Model.state_updates` will be removed in a future version. This property should not be used in TensorFlow 2.0, as `updates` are applied automatically.\n",
      "  updates=self.state_updates,\n"
     ]
    }
   ],
   "source": [
    "embs, clssmodel = da_cellfraction.train(sc_mix_s, lab_mix, mat_sp_s, enable_dann=True,\n",
    "                                        alpha=1, alpha_lr=5, emb_dim = 64, batch_size = 512,\n",
    "                                        n_iterations = 2000,\n",
    "                                        initial_train=True,\n",
    "                                        initial_train_epochs=10)\n",
    "\n",
    "pred_sp = clssmodel.predict(mat_sp_s)"
   ]
  },
  {
   "cell_type": "code",
   "execution_count": 12,
   "id": "c6dbbca9-5016-4877-8aef-3ed94e4e69ab",
   "metadata": {},
   "outputs": [],
   "source": [
    "for num in sc_sub_dict:\n",
    "    adata.obs[f'celltype_{sc_sub_dict[num]}'] = pred_sp[:,num]"
   ]
  },
  {
   "cell_type": "markdown",
   "id": "17c5a7b0-5b98-4a63-9b72-e6f26c53ec80",
   "metadata": {},
   "source": [
    "# Export"
   ]
  },
  {
   "cell_type": "code",
   "execution_count": 13,
   "id": "f185fdf4-171a-4ebc-ba75-8faf4b267f48",
   "metadata": {},
   "outputs": [],
   "source": [
    "sc.pp.log1p(adata)"
   ]
  },
  {
   "cell_type": "code",
   "execution_count": 14,
   "id": "ff189be7-6e15-4252-897a-ec3a4c18f3ca",
   "metadata": {},
   "outputs": [],
   "source": [
    "adata.uns['preprocessed'] = True"
   ]
  },
  {
   "cell_type": "code",
   "execution_count": 25,
   "id": "f06fd686-338e-4c7b-b7ed-e05bd854ff9a",
   "metadata": {
    "scrolled": true
   },
   "outputs": [],
   "source": [
    "adata.write_h5ad('./10X_Visium_FFPE_Human_Breast_Cancer.h5ad')"
   ]
  }
 ],
 "metadata": {
  "kernelspec": {
   "display_name": "CellDART",
   "language": "python",
   "name": "celldart"
  },
  "language_info": {
   "codemirror_mode": {
    "name": "ipython",
    "version": 3
   },
   "file_extension": ".py",
   "mimetype": "text/x-python",
   "name": "python",
   "nbconvert_exporter": "python",
   "pygments_lexer": "ipython3",
   "version": "3.8.18"
  }
 },
 "nbformat": 4,
 "nbformat_minor": 5
}
